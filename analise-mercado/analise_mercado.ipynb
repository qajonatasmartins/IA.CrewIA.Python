{
 "cells": [
  {
   "cell_type": "code",
   "execution_count": null,
   "metadata": {},
   "outputs": [],
   "source": [
    "from dotenv import load_dotenv, find_dotenv\n",
    "load_dotenv(find_dotenv())\n"
   ]
  },
  {
   "cell_type": "code",
   "execution_count": 14,
   "metadata": {},
   "outputs": [],
   "source": [
    "from crewai import Agent, Task, Crew"
   ]
  },
  {
   "cell_type": "markdown",
   "metadata": {},
   "source": [
    "### Agentes \n",
    "- Pesquisa de mercado\n",
    "- Analista de tendências\n",
    "- Redator do relatório\n"
   ]
  },
  {
   "cell_type": "code",
   "execution_count": 15,
   "metadata": {},
   "outputs": [],
   "source": [
    "pesquisador = Agent(\n",
    "    role=\"Pesquisa de mercado\",\n",
    "    goal=\"Coletar e organizar informações relevantes sobre {sector}\",\n",
    "    backstory=\"\"\"\n",
    "    Você é um pesquisador experiente que analisa tendencias de mercado e coleta\n",
    "      dados relevantes sobre {sector}. Seu trabalho é garantir que todas as informações estejam\n",
    "      atualizadas e bem documentadas.\n",
    "      \"\"\",\n",
    "      allow_delegation=False,\n",
    "    verbose=True\n",
    ")"
   ]
  },
  {
   "cell_type": "code",
   "execution_count": 16,
   "metadata": {},
   "outputs": [],
   "source": [
    "\n",
    "analista = Agent(\n",
    "    role=\"Analista de tendências\",\n",
    "    goal=\"Analisar os dados do setor {sector} e identificar as padrões e oportunidades\",\n",
    "    backstory=\"\"\"\n",
    "    Você é um analista experiente de mercado que analisa os dados coletados\n",
    "    para identificar tendencias emergentes, oportunidades e ameaças no setor {sector}.\n",
    "    \"\"\",\n",
    "      allow_delegation=False,\n",
    "      verbose=True\n",
    ")"
   ]
  },
  {
   "cell_type": "code",
   "execution_count": 17,
   "metadata": {},
   "outputs": [],
   "source": [
    "redator = Agent(\n",
    "    role=\"Redator do relatórios\",\n",
    "    goal=\"Elaborar um relatório consolidado sobre a analise de mercado do setor {sector}\",\n",
    "    backstory=\"\"\"\n",
    "    Você é um redator profissional que transforma analise de mercado em um relatórios estruturado\n",
    "    e compreensivel para tomadores de decisão.\n",
    "    \"\"\",\n",
    "    allow_delegation=False,\n",
    "    verbose=True\n",
    ")"
   ]
  },
  {
   "cell_type": "code",
   "execution_count": 18,
   "metadata": {},
   "outputs": [],
   "source": [
    "coleta_dados = Task(\n",
    "    description=(\n",
    "        \"1. Pesquisar e coletar informações atualizadas sobre {sector}. \"\n",
    "        \"2. Identificar os principais players, tendências e estatisticas do setor. \"\n",
    "        \"3. Organizar os dados de forma clara para análise. \"\n",
    "        ),\n",
    "        expected_output=\"Um documento estruturado contendo dados de mercado sobre o {sector}\",\n",
    "        agent=pesquisador\n",
    ")"
   ]
  },
  {
   "cell_type": "code",
   "execution_count": 19,
   "metadata": {},
   "outputs": [],
   "source": [
    "analise_tendencias = Task(\n",
    "    description=(\n",
    "        \"1. Exxaminar os dados coletados pelo pesquisador de mercado. \"\n",
    "        \"2. Identificar padrões, tendências emergentes e oportunidades no setor {sector}.\"\n",
    "        \"3. Elaborar uma analise detalhada destacando os principais pontos.\"\n",
    "        ),\n",
    "        expected_output=\"Um relatório com insights e tendências baseados nos dados do setor {sector}\",\n",
    "        agent=analista\n",
    ")"
   ]
  },
  {
   "cell_type": "code",
   "execution_count": 20,
   "metadata": {},
   "outputs": [],
   "source": [
    "redacao_relatorio = Task(\n",
    "    description=(\n",
    "        \"1. Usar a analise de tendências para criar um relatório detalhado sobre o setor {sector}. \"\n",
    "        \"2. Garantir que o relatorio seja bem estruturado e fácil de entender. \"\n",
    "        \"3. Apresentar um resumo executivo e recomendações finais. \"\n",
    "        ),\n",
    "        expected_output=\"Um relatorio de analise de mercado em formato markdown, pronto para leitura e apresentação.\",\n",
    "        agent=redator\n",
    "    )"
   ]
  },
  {
   "cell_type": "code",
   "execution_count": 21,
   "metadata": {},
   "outputs": [],
   "source": [
    "crews = Crew(\n",
    "    agents=[pesquisador, analista, redator],\n",
    "    tasks=[coleta_dados, analise_tendencias, redacao_relatorio],\n",
    "    verbose=True\n",
    ")"
   ]
  },
  {
   "cell_type": "code",
   "execution_count": null,
   "metadata": {},
   "outputs": [],
   "source": [
    "crews"
   ]
  },
  {
   "cell_type": "code",
   "execution_count": null,
   "metadata": {},
   "outputs": [],
   "source": [
    "resultado = crews.kickoff(inputs={\"sector\": \"Inteligencia Artificial\"})\n",
    "\n",
    "print(resultado.raw)\n",
    "\n",
    "from IPython.display import Markdown, display\n",
    "\n",
    "display(Markdown(str(resultado.raw)))\n",
    "\n",
    "with open('relatorio_mercado.pdf', 'w', encoding='utf-8') as file:\n",
    "    file.write(str(resultado))\n",
    "\n",
    "import markdown\n",
    "\n",
    "html = markdown.markdown(str(resultado))\n",
    "with open('relatorio_mercado.html', 'w', encoding='utf-8') as file:\n",
    "    file.write(html)"
   ]
  }
 ],
 "metadata": {
  "kernelspec": {
   "display_name": "Python 3",
   "language": "python",
   "name": "python3"
  },
  "language_info": {
   "codemirror_mode": {
    "name": "ipython",
    "version": 3
   },
   "file_extension": ".py",
   "mimetype": "text/x-python",
   "name": "python",
   "nbconvert_exporter": "python",
   "pygments_lexer": "ipython3",
   "version": "3.12.4"
  }
 },
 "nbformat": 4,
 "nbformat_minor": 4
}
