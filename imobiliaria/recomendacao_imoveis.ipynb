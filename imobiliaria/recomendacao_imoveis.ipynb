{
 "cells": [
  {
   "cell_type": "code",
   "execution_count": 63,
   "metadata": {},
   "outputs": [],
   "source": [
    "import json\n",
    "import os\n",
    "from datetime import datetime,timedelta\n",
    "from crewai import Agent, Task, Crew, Process\n",
    "from crewai_tools import CSVSearchTool\n",
    "from dotenv import load_dotenv, find_dotenv\n",
    "from langchain.tools import Tool\n",
    "from langchain_community.tools import DuckDuckGoSearchResults"
   ]
  },
  {
   "cell_type": "code",
   "execution_count": 64,
   "metadata": {},
   "outputs": [],
   "source": [
    "from langchain_openai import ChatOpenAI\n",
    "\n",
    "load_dotenv(find_dotenv())\n",
    "llm = ChatOpenAI(model=\"gpt-3.5-turbo-0125\")\n",
    "\n"
   ]
  },
  {
   "cell_type": "code",
   "execution_count": 65,
   "metadata": {},
   "outputs": [],
   "source": [
    "csv_imoveis = CSVSearchTool(\n",
    "    csv_file=\"files/imoveis.csv\"\n",
    ")"
   ]
  },
  {
   "cell_type": "code",
   "execution_count": 66,
   "metadata": {},
   "outputs": [],
   "source": [
    "# Agente corretor de imóveis\n",
    "\n",
    "corretor_imoveis = Agent(\n",
    "    role=\"Corretor de imóveis\",\n",
    "    goal=\"Obtenha as preferências do cliente e busque imóveis compatíveis no banco de dados.\\n\",\n",
    "    backstory=\"Especialista no mercado imobiliário, encontra as melhores opções baseadas no perfil do cliente.\\n\",\n",
    "    verbose=True,\n",
    "    max_iter=5,\n",
    "    tools=[csv_imoveis],\n",
    "    allow_delegation=False,\n",
    "    memory=True,\n",
    ")\n"
   ]
  },
  {
   "cell_type": "code",
   "execution_count": 67,
   "metadata": {},
   "outputs": [],
   "source": [
    "# Tarefa - Buscar imovies\n",
    "\n",
    "buscar_imoveis = Task(\n",
    "    description=\"Buscar imóveis compatíveis com as preferências do cliente\",\n",
    "    expected_output=\"Lista de imóveis compatíveis com as preferências do cliente com detalhes como preço, localização e características.\",\n",
    "    agent=corretor_imoveis\n",
    ")"
   ]
  },
  {
   "cell_type": "code",
   "execution_count": 68,
   "metadata": {},
   "outputs": [],
   "source": [
    "from crewai.tools import BaseTool\n",
    "\n",
    "def obter_precos_imoveis(cidade:str = \"geral\"):\n",
    "    precos = {\n",
    "        \"sao paulo\":{\"tendencia\":\"aumento\", \"percentual\":5.05},\n",
    "        \"rio de janeiro\":{\"tendencia\":\"estabilidade\", \"percentual\":2.02},\n",
    "        \"belo horizonte\":{\"tendencia\":\"queda\", \"percentual\":3.03},\n",
    "        \"curitiba\":{\"tendencia\":\"estabilidade\", \"percentual\":1.01},\n",
    "        \"fortaleza\":{\"tendencia\":\"queda\", \"percentual\":0.04},\n",
    "        \"salvador\":{\"tendencia\":\"aumento\", \"percentual\":0.03},\n",
    "        \"geral\":{\"tendencia\":\"aumento\", \"percentual\":4.03},\n",
    "    }\n",
    "    return precos.get(cidade, precos[\"geral\"])\n",
    "\n",
    "class TendenciaPrecosImoveisTool(BaseTool):\n",
    "    name:str = \"Analisador de preços imobiliários\"\n",
    "    description:str = \"\"\"\n",
    "    Obtém tendências de precos de imoveis com base na cidade especificada.\n",
    "    \"\"\"\n",
    "\n",
    "    def _run(self, cidade:str)-> dict:\n",
    "        \"\"\"\n",
    "        Excuta a analise de precos imobiliários e retorna a tendencia com base na cidade.\n",
    "        \"\"\"\n",
    "        try:\n",
    "            return obter_precos_imoveis(cidade)\n",
    "        except Exception as e:\n",
    "            return {\"error\": f\"Erro ao obter tendência de preços: {str(e)}\"}"
   ]
  },
  {
   "cell_type": "code",
   "execution_count": 69,
   "metadata": {},
   "outputs": [],
   "source": [
    "analista_mercado = Agent(\n",
    "    role=\"Analista de mercado imobiliário\",\n",
    "    goal=\"Analisa tendencias de precos e ajuda a prever a valorização ou desvalorização dos imoveis na cidade {cidade}.\\n\",\n",
    "    backstory=\"Experiente no mercado imobiliário, analisa as tendências de preços e fornece recomendações estratégicas para prever preços futuros.\\n\",\n",
    "    verbose=True,\n",
    "    max_iter=5,\n",
    "    allow_delegation=False,\n",
    "    memory=True,\n",
    ")"
   ]
  },
  {
   "cell_type": "code",
   "execution_count": 70,
   "metadata": {},
   "outputs": [],
   "source": [
    "obter_tendencias = Task(\n",
    "    description=\"\"\"\n",
    "    Analise o historico de precos de imoveis na cidade {cidade} e forneça insights sobre a valorização\\n\n",
    "    ou desvalorização. Considere o tipo de imovel {tipo_imovel} e a faixa de preço {faixa_preco}.\\n\n",
    "    \"\"\",\n",
    "    expected_output=\"Resumo da tentencias dos precos no mercado imobiliario.\",\n",
    "    tools=[TendenciaPrecosImoveisTool()],\n",
    "    agent=analista_mercado,\n",
    "    parameters=[\"cidade\"]\n",
    ")"
   ]
  },
  {
   "cell_type": "code",
   "execution_count": 71,
   "metadata": {},
   "outputs": [],
   "source": [
    "analista_noticias = Agent(\n",
    "    role=\"Analista de noticias imobiliárias\",\n",
    "    goal=\"Busca noticias relevantes osbre o mercado imobiliario para avaliar fatores externos.\\n\",\n",
    "    backstory=\"Especialista em analisar noticias e tendencias economicas que afetam os precos dos imoveis\\n\",\n",
    "    verbose=True,\n",
    "    max_iter=5,\n",
    "    memory=True,\n",
    ")\n",
    "    "
   ]
  },
  {
   "cell_type": "code",
   "execution_count": 72,
   "metadata": {},
   "outputs": [],
   "source": [
    "searchTool = DuckDuckGoSearchResults(backend=\"news\", num_results=5)\n"
   ]
  },
  {
   "cell_type": "code",
   "execution_count": null,
   "metadata": {},
   "outputs": [],
   "source": [
    "searchTool"
   ]
  },
  {
   "cell_type": "code",
   "execution_count": 74,
   "metadata": {},
   "outputs": [],
   "source": [
    "buscar_noticias = Task(\n",
    "    description=\"\"\"\n",
    "    Busca as ultimas (recentes) noticias sobre o mercado imobiliário na cidade {cidade} na data atual: {datetime.now()}.\n",
    "    \"\"\",\n",
    "    expected_output=\"Resumo das principais noticias e tendencias imobiliárias encontradas.\",\n",
    "    tool=[searchTool],\n",
    "    agent=analista_noticias,\n",
    ")"
   ]
  },
  {
   "cell_type": "code",
   "execution_count": 75,
   "metadata": {},
   "outputs": [],
   "source": [
    "consultor_financeiro = Agent(\n",
    "    role=\"Consultor financeiro\",\n",
    "    goal=\"Analisa o impacto das noticias imobiliárias no mercado financeiro com base no perfil do cliente   .\\n\",\n",
    "    backstory=\"Experiente em analisar noticias e tendencias economicas que afetam os precos dos imovei. Ajuda os clientes a escolher as melhores opções de investimento.\\n\",\n",
    "    verbose=True,\n",
    "    allow_delegation=False,\n",
    "    max_iter=5,\n",
    "    memory=True\n",
    ")"
   ]
  },
  {
   "cell_type": "code",
   "execution_count": 76,
   "metadata": {},
   "outputs": [],
   "source": [
    "calcular_financeiamento = Task(\n",
    "    description=\"\"\"\n",
    "    Analise a renda do cliente e sugira opções de financiamento viavies.\\n\n",
    "    \"\"\",\n",
    "    expected_output=\"Tabela comparativa com diferentes financiamentos, taxa de juros e prazos\",\n",
    "    agent=consultor_financeiro\n",
    ")"
   ]
  },
  {
   "cell_type": "code",
   "execution_count": 77,
   "metadata": {},
   "outputs": [],
   "source": [
    "redator = Agent(\n",
    "    role=\"Redator de relatorios imobiliarios\",\n",
    "    goal=\"Cria relatorios detalhados e persuativos para os clientes com base nas informações coletadas.\\n\",\n",
    "    backstory=\"Especialista em criar relatorios detalhados e personalizados para os clientes de forma clara e objetiva.\\n\",\n",
    "    verbose=True,\n",
    "    allow_delegation=False,\n",
    "    max_iter=5,\n",
    "    memory=True,\n",
    ")\n",
    "\n",
    "gerar_relatorio = Task(\n",
    "    description=\"\"\"\n",
    "    Gere um realtorio detalhado sobre o melhor imovel encontrado, considerando precos, tendencias e financiamento.\\n\n",
    "    \"\"\",\n",
    "    expected_output=\"Relatório formatado com resumo do mercado, opções recomendadas e justificativa da escolha.\",\n",
    "    agent=redator,\n",
    "    context=[buscar_imoveis, obter_tendencias, buscar_noticias, calcular_financeiamento]\n",
    ")"
   ]
  },
  {
   "cell_type": "code",
   "execution_count": null,
   "metadata": {},
   "outputs": [],
   "source": [
    "crews = Crew(\n",
    "    agents=[corretor_imoveis, analista_mercado, analista_noticias, consultor_financeiro, redator],\n",
    "    tasks=[buscar_imoveis, obter_tendencias, buscar_noticias, calcular_financeiamento, gerar_relatorio],\n",
    "    verbose=True,\n",
    "    process=Process.hierarchical,\n",
    "    full_output=True,\n",
    "    share_crew=False,\n",
    "    max_iter=15,\n",
    "    manager_llm=llm\n",
    ")\n",
    "\n",
    "resultado = crews.kickoff(\n",
    "    inputs={\n",
    "        \"cidade\": \"São Paulo\",\n",
    "        \"tipo_imovel\": \"apartamento\",\n",
    "        \"faixa_preco\": \"1000000-2000000\"\n",
    "    }\n",
    ")"
   ]
  },
  {
   "cell_type": "code",
   "execution_count": null,
   "metadata": {},
   "outputs": [],
   "source": [
    "print(resultado.raw)\n",
    "\n",
    "from IPython.display import Markdown, display\n",
    "\n",
    "display(Markdown(str(resultado.raw)))\n",
    "\n",
    "with open('relatorio_imobiliario.pdf', 'w', encoding='utf-8') as file:\n",
    "    file.write(str(resultado))\n",
    "\n",
    "import markdown\n",
    "\n",
    "html = markdown.markdown(str(resultado))\n",
    "with open('relatorio_imobiliario.html', 'w', encoding='utf-8') as file:\n",
    "    file.write(html)"
   ]
  }
 ],
 "metadata": {
  "kernelspec": {
   "display_name": "Python 3",
   "language": "python",
   "name": "python3"
  },
  "language_info": {
   "codemirror_mode": {
    "name": "ipython",
    "version": 3
   },
   "file_extension": ".py",
   "mimetype": "text/x-python",
   "name": "python",
   "nbconvert_exporter": "python",
   "pygments_lexer": "ipython3",
   "version": "3.11.5"
  }
 },
 "nbformat": 4,
 "nbformat_minor": 2
}
